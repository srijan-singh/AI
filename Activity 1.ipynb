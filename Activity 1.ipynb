{
 "cells": [
  {
   "cell_type": "markdown",
   "id": "51958d62",
   "metadata": {},
   "source": [
    "# Day 2"
   ]
  },
  {
   "cell_type": "code",
   "execution_count": 2,
   "id": "e7338683",
   "metadata": {},
   "outputs": [
    {
     "name": "stdout",
     "output_type": "stream",
     "text": [
      "hello\n"
     ]
    }
   ],
   "source": [
    "print(\"hello\")"
   ]
  },
  {
   "cell_type": "code",
   "execution_count": 5,
   "id": "aada1bbe",
   "metadata": {},
   "outputs": [],
   "source": [
    "var1 = 12\n",
    "var2 = 4.0\n",
    "var3 = \"dfdf\""
   ]
  },
  {
   "cell_type": "code",
   "execution_count": 6,
   "id": "a4beaaf2",
   "metadata": {},
   "outputs": [
    {
     "name": "stdout",
     "output_type": "stream",
     "text": [
      "12 4.0 dfdf\n"
     ]
    }
   ],
   "source": [
    "print(var1,var2,var3)"
   ]
  },
  {
   "cell_type": "code",
   "execution_count": 7,
   "id": "dff76ca5",
   "metadata": {},
   "outputs": [
    {
     "name": "stdout",
     "output_type": "stream",
     "text": [
      "<class 'int'> <class 'float'> <class 'str'>\n"
     ]
    }
   ],
   "source": [
    "print(type(var1),type(var2),type(var3))"
   ]
  },
  {
   "cell_type": "code",
   "execution_count": 8,
   "id": "06613ac0",
   "metadata": {},
   "outputs": [
    {
     "name": "stdout",
     "output_type": "stream",
     "text": [
      "3.0\n"
     ]
    }
   ],
   "source": [
    "var4 = var1/4\n",
    "print(var4)"
   ]
  },
  {
   "cell_type": "code",
   "execution_count": 10,
   "id": "f553a983",
   "metadata": {},
   "outputs": [
    {
     "name": "stdout",
     "output_type": "stream",
     "text": [
      "12\n",
      "45\n",
      "540\n"
     ]
    }
   ],
   "source": [
    "x = int(input())\n",
    "y = int(input())\n",
    "\n",
    "print(x*y)"
   ]
  },
  {
   "cell_type": "code",
   "execution_count": 11,
   "id": "6443e650",
   "metadata": {},
   "outputs": [
    {
     "name": "stdout",
     "output_type": "stream",
     "text": [
      "ParulUniversity\n"
     ]
    }
   ],
   "source": [
    "str1 = \"Parul\"\n",
    "str2 = \"University\"\n",
    "str3 = str1+str2\n",
    "print(str3)"
   ]
  },
  {
   "cell_type": "code",
   "execution_count": 12,
   "id": "3b7b883b",
   "metadata": {},
   "outputs": [
    {
     "data": {
      "text/plain": [
       "'ulUniversity'"
      ]
     },
     "execution_count": 12,
     "metadata": {},
     "output_type": "execute_result"
    }
   ],
   "source": [
    "str3[3:]"
   ]
  },
  {
   "cell_type": "code",
   "execution_count": 13,
   "id": "ed2863f9",
   "metadata": {},
   "outputs": [],
   "source": [
    "arr = [3,4,1,2,3,4,5,6]"
   ]
  },
  {
   "cell_type": "code",
   "execution_count": 14,
   "id": "346bc4ea",
   "metadata": {},
   "outputs": [
    {
     "name": "stdout",
     "output_type": "stream",
     "text": [
      "6\n"
     ]
    }
   ],
   "source": [
    "print(arr[-1])"
   ]
  },
  {
   "cell_type": "code",
   "execution_count": 15,
   "id": "362f17b8",
   "metadata": {},
   "outputs": [
    {
     "name": "stdout",
     "output_type": "stream",
     "text": [
      "2\n"
     ]
    }
   ],
   "source": [
    "print(arr[3])"
   ]
  },
  {
   "cell_type": "code",
   "execution_count": 5,
   "id": "04bc49a7",
   "metadata": {},
   "outputs": [],
   "source": [
    "#Calculator\n",
    "\n",
    "def calculator(input_1, input_2):\n",
    "    input_op = int(input(\"1) for add. 2) for sub. 3) for multiply. 4) for divide\"))\n",
    "\n",
    "    if input_op == 1:\n",
    "        print(input_1+input_2)\n",
    "    elif input_op == 2:\n",
    "        print(input_1-input_2)\n",
    "    elif input_op == 3:\n",
    "        print(input_1*input_2)\n",
    "    elif input_op == 4:\n",
    "        print(input_1/input_2)\n",
    "    else:\n",
    "        print(\"Error\")"
   ]
  },
  {
   "cell_type": "code",
   "execution_count": 6,
   "id": "223ab3be",
   "metadata": {},
   "outputs": [
    {
     "name": "stdout",
     "output_type": "stream",
     "text": [
      "12\n",
      "3\n",
      "1 for add /n 2 for sub /n 3 for multiply /n 4 for divide4\n",
      "4.0\n"
     ]
    }
   ],
   "source": [
    "input_1 = int(input())\n",
    "input_2 = int(input())\n",
    "\n",
    "calculator(input_1, input_2)"
   ]
  },
  {
   "cell_type": "code",
   "execution_count": null,
   "id": "3eccfd19",
   "metadata": {},
   "outputs": [],
   "source": []
  },
  {
   "cell_type": "code",
   "execution_count": 4,
   "id": "86cf6659",
   "metadata": {},
   "outputs": [],
   "source": [
    "def hello():\n",
    "    print(\"srijan\")"
   ]
  },
  {
   "cell_type": "code",
   "execution_count": 5,
   "id": "76563901",
   "metadata": {},
   "outputs": [
    {
     "name": "stdout",
     "output_type": "stream",
     "text": [
      "srijan\n"
     ]
    }
   ],
   "source": [
    "if __name__ == \"__main__\":\n",
    "    hello()"
   ]
  },
  {
   "cell_type": "code",
   "execution_count": 1,
   "id": "6aca667b",
   "metadata": {},
   "outputs": [
    {
     "name": "stdout",
     "output_type": "stream",
     "text": [
      "Python 3.9.7\n"
     ]
    }
   ],
   "source": [
    "!python --version"
   ]
  }
 ],
 "metadata": {
  "kernelspec": {
   "display_name": "Python 3 (ipykernel)",
   "language": "python",
   "name": "python3"
  },
  "language_info": {
   "codemirror_mode": {
    "name": "ipython",
    "version": 3
   },
   "file_extension": ".py",
   "mimetype": "text/x-python",
   "name": "python",
   "nbconvert_exporter": "python",
   "pygments_lexer": "ipython3",
   "version": "3.9.7"
  }
 },
 "nbformat": 4,
 "nbformat_minor": 5
}
