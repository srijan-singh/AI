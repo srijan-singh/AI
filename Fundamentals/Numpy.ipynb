{
 "cells": [
  {
   "cell_type": "markdown",
   "id": "b7d196b7",
   "metadata": {},
   "source": [
    "# Numpy "
   ]
  },
  {
   "cell_type": "code",
   "execution_count": 1,
   "id": "57bcfb33",
   "metadata": {},
   "outputs": [],
   "source": [
    "import numpy as np"
   ]
  },
  {
   "cell_type": "code",
   "execution_count": 11,
   "id": "8a17e08b",
   "metadata": {},
   "outputs": [
    {
     "name": "stdout",
     "output_type": "stream",
     "text": [
      "[[1 2 3 4]\n",
      " [5 6 7 8]]\n"
     ]
    }
   ],
   "source": [
    "# Creaing Array\n",
    "\n",
    "arr  = np.array([[1,2,3,4],[5,6,7,8]])\n",
    "print(arr)"
   ]
  },
  {
   "cell_type": "code",
   "execution_count": 12,
   "id": "249a8e0f",
   "metadata": {},
   "outputs": [
    {
     "name": "stdout",
     "output_type": "stream",
     "text": [
      "2\n"
     ]
    }
   ],
   "source": [
    "# Dimension of array\n",
    "\n",
    "print(arr.ndim)"
   ]
  },
  {
   "cell_type": "code",
   "execution_count": 13,
   "id": "8c81485c",
   "metadata": {},
   "outputs": [
    {
     "name": "stdout",
     "output_type": "stream",
     "text": [
      "(2, 4)\n"
     ]
    }
   ],
   "source": [
    "# Shape of array\n",
    "\n",
    "print(arr.shape)"
   ]
  },
  {
   "cell_type": "code",
   "execution_count": 14,
   "id": "f48654d4",
   "metadata": {},
   "outputs": [
    {
     "name": "stdout",
     "output_type": "stream",
     "text": [
      "<class 'numpy.ndarray'>\n"
     ]
    }
   ],
   "source": [
    "# Type of array\n",
    "\n",
    "print(type(arr))"
   ]
  },
  {
   "cell_type": "code",
   "execution_count": 15,
   "id": "3d756663",
   "metadata": {},
   "outputs": [
    {
     "name": "stdout",
     "output_type": "stream",
     "text": [
      "<memory at 0x00000219F1E72C70>\n"
     ]
    }
   ],
   "source": [
    "# location of array at memory\n",
    "\n",
    "print(arr.data)"
   ]
  },
  {
   "cell_type": "markdown",
   "id": "f6f2ccda",
   "metadata": {},
   "source": [
    "## Basic Function"
   ]
  },
  {
   "cell_type": "code",
   "execution_count": 51,
   "id": "6c6283cf",
   "metadata": {},
   "outputs": [
    {
     "name": "stdout",
     "output_type": "stream",
     "text": [
      "[[1 5]\n",
      " [2 6]\n",
      " [3 7]\n",
      " [4 8]]\n"
     ]
    }
   ],
   "source": [
    "# Transpose\n",
    "\n",
    "print(arr.transpose())"
   ]
  },
  {
   "cell_type": "code",
   "execution_count": 63,
   "id": "f9817a56",
   "metadata": {},
   "outputs": [
    {
     "name": "stdout",
     "output_type": "stream",
     "text": [
      "[[0 1 2 3 4]\n",
      " [5 6 7 8 9]]\n"
     ]
    }
   ],
   "source": [
    "# Universal Array\n",
    "\n",
    "arr1 = np.arange(10).reshape(2,5)\n",
    "print(arr1)"
   ]
  },
  {
   "cell_type": "code",
   "execution_count": 64,
   "id": "7846cfe1",
   "metadata": {},
   "outputs": [
    {
     "name": "stdout",
     "output_type": "stream",
     "text": [
      "[[0.         1.         1.41421356 1.73205081 2.        ]\n",
      " [2.23606798 2.44948974 2.64575131 2.82842712 3.        ]]\n"
     ]
    }
   ],
   "source": [
    "# Square root\n",
    "\n",
    "arr2 = np.sqrt(arr1)\n",
    "print(arr2)"
   ]
  },
  {
   "cell_type": "code",
   "execution_count": 65,
   "id": "06b80b5e",
   "metadata": {},
   "outputs": [
    {
     "name": "stdout",
     "output_type": "stream",
     "text": [
      "[[0.         1.         1.41421356 1.73205081 2.        ]\n",
      " [2.23606798 2.44948974 2.64575131 2.82842712 3.        ]]\n"
     ]
    }
   ],
   "source": [
    "# Exponential\n",
    "\n",
    "arr3 = np.sqrt(arr1)\n",
    "print(arr3)"
   ]
  },
  {
   "cell_type": "code",
   "execution_count": 85,
   "id": "1c312102",
   "metadata": {},
   "outputs": [
    {
     "name": "stdout",
     "output_type": "stream",
     "text": [
      "[0.5031273  0.62068905 0.08891395 0.14682587 0.11768726 0.23636345\n",
      " 0.62489964 0.80231315 0.49342245 0.24438573]\n"
     ]
    }
   ],
   "source": [
    "# Random Array Generator\n",
    "\n",
    "arr4 = np.random.rand(10)\n",
    "print(arr4)"
   ]
  },
  {
   "cell_type": "code",
   "execution_count": 86,
   "id": "9c0871bb",
   "metadata": {
    "scrolled": true
   },
   "outputs": [
    {
     "name": "stdout",
     "output_type": "stream",
     "text": [
      "[[0.         1.         1.41421356 1.73205081 2.        ]\n",
      " [2.23606798 2.44948974 2.64575131 2.82842712 3.        ]]\n"
     ]
    }
   ],
   "source": [
    "# Maximum\n",
    "arr5 = np.maximum(arr2,arr3)\n",
    "print(arr5)"
   ]
  },
  {
   "cell_type": "markdown",
   "id": "d08d0e8b",
   "metadata": {},
   "source": [
    "## Activity 1\n",
    "\n",
    "### Finding out BMI"
   ]
  },
  {
   "cell_type": "code",
   "execution_count": 16,
   "id": "17088710",
   "metadata": {},
   "outputs": [],
   "source": [
    "# Calculate BMI of cricketers\n",
    "\n",
    "# height\n",
    "height_in = [72,64,56,89,92,105,84,52,79,100]\n",
    "\n",
    "# weight\n",
    "weight_pound = [120,158,130,180,187,190,177,152,165,177]"
   ]
  },
  {
   "cell_type": "code",
   "execution_count": 17,
   "id": "a3e6bd66",
   "metadata": {},
   "outputs": [
    {
     "name": "stdout",
     "output_type": "stream",
     "text": [
      "(10,) (10,)\n"
     ]
    }
   ],
   "source": [
    "# Creating NP array\n",
    "\n",
    "height = np.array(height_in)\n",
    "weight = np.array(weight_pound)\n",
    "\n",
    "# Shape\n",
    "print(height.shape, weight.shape)"
   ]
  },
  {
   "cell_type": "code",
   "execution_count": 28,
   "id": "84bae4f9",
   "metadata": {},
   "outputs": [
    {
     "name": "stdout",
     "output_type": "stream",
     "text": [
      "Previous Array:  [ 72  64  56  89  92 105  84  52  79 100]\n",
      "Updated Array:  [18.   16.   14.   22.25 23.   26.25 21.   13.   19.75 25.  ]\n"
     ]
    }
   ],
   "source": [
    "# Converting inch to cm\n",
    "\n",
    "print(\"Previous Array: \",height)\n",
    "height = height*0.25\n",
    "print(\"Updated Array: \",height)"
   ]
  },
  {
   "cell_type": "code",
   "execution_count": 18,
   "id": "da2b00ef",
   "metadata": {},
   "outputs": [
    {
     "name": "stdout",
     "output_type": "stream",
     "text": [
      "Previous Array:  [120 158 130 180 187 190 177 152 165 177]\n",
      "Updated Array:  [54.   71.1  58.5  81.   84.15 85.5  79.65 68.4  74.25 79.65]\n"
     ]
    }
   ],
   "source": [
    "# Converting pounds to kg\n",
    "\n",
    "print(\"Previous Array: \",weight)\n",
    "weight = weight*0.45\n",
    "print(\"Updated Array: \",weight)"
   ]
  },
  {
   "cell_type": "code",
   "execution_count": 29,
   "id": "369d9a24",
   "metadata": {},
   "outputs": [
    {
     "name": "stdout",
     "output_type": "stream",
     "text": [
      "[ 9.         19.74691406 17.46045918 13.25287211 13.38605388 10.60897959\n",
      " 14.38576531 27.68378698 14.13379266 10.150596  ]\n"
     ]
    }
   ],
   "source": [
    "# Calculate BMI\n",
    "\n",
    "# Weight/height **2\n",
    "\n",
    "bmi = (weight/height) **2\n",
    "\n",
    "print(bmi)"
   ]
  },
  {
   "cell_type": "code",
   "execution_count": 30,
   "id": "6846f501",
   "metadata": {},
   "outputs": [
    {
     "name": "stdout",
     "output_type": "stream",
     "text": [
      "[27.68378698]\n"
     ]
    }
   ],
   "source": [
    "# Values Greater than 21\n",
    "print(bmi[bmi > 21])"
   ]
  },
  {
   "cell_type": "code",
   "execution_count": 32,
   "id": "6e8afae6",
   "metadata": {},
   "outputs": [
    {
     "name": "stdout",
     "output_type": "stream",
     "text": [
      "[ 9.         19.74691406 17.46045918 13.25287211 13.38605388 10.60897959\n",
      " 14.38576531 14.13379266 10.150596  ]\n"
     ]
    }
   ],
   "source": [
    "# Values Less than 21\n",
    "print(bmi[bmi < 21])"
   ]
  },
  {
   "cell_type": "markdown",
   "id": "5fd584ad",
   "metadata": {},
   "source": [
    "## Stats Function "
   ]
  },
  {
   "cell_type": "code",
   "execution_count": 90,
   "id": "1972be93",
   "metadata": {},
   "outputs": [
    {
     "name": "stdout",
     "output_type": "stream",
     "text": [
      "19.825\n",
      "73.62\n"
     ]
    }
   ],
   "source": [
    "# Mean\n",
    "print(np.mean(height))\n",
    "print(np.mean(weight))"
   ]
  },
  {
   "cell_type": "code",
   "execution_count": 91,
   "id": "e8f13709",
   "metadata": {},
   "outputs": [
    {
     "name": "stdout",
     "output_type": "stream",
     "text": [
      "20.375\n",
      "76.95\n"
     ]
    }
   ],
   "source": [
    "# Median\n",
    "print(np.median(height))\n",
    "print(np.median(weight))"
   ]
  },
  {
   "cell_type": "code",
   "execution_count": 89,
   "id": "0df0406f",
   "metadata": {},
   "outputs": [
    {
     "name": "stdout",
     "output_type": "stream",
     "text": [
      "198.25\n",
      "736.2\n"
     ]
    }
   ],
   "source": [
    "# Sum\n",
    "print(np.sum(height))\n",
    "print(np.sum(weight))"
   ]
  },
  {
   "cell_type": "code",
   "execution_count": 92,
   "id": "b98b398e",
   "metadata": {},
   "outputs": [
    {
     "name": "stdout",
     "output_type": "stream",
     "text": [
      "4.288137707676842\n",
      "10.132896920427052\n"
     ]
    }
   ],
   "source": [
    "# Standard Deviation\n",
    "print(np.std(height))\n",
    "print(np.std(weight))"
   ]
  },
  {
   "cell_type": "code",
   "execution_count": 95,
   "id": "39e71372",
   "metadata": {},
   "outputs": [
    {
     "name": "stdout",
     "output_type": "stream",
     "text": [
      "1.0\n",
      "1.0\n"
     ]
    }
   ],
   "source": [
    "# Correlation and Coefficient\n",
    "print(np.corrcoef(height))\n",
    "print(np.corrcoef(weight))"
   ]
  },
  {
   "cell_type": "markdown",
   "id": "c9156f23",
   "metadata": {},
   "source": [
    "### Boolean Array"
   ]
  },
  {
   "cell_type": "code",
   "execution_count": 96,
   "id": "50f0f1be",
   "metadata": {},
   "outputs": [],
   "source": [
    "bools = [False, True, True, False, True]"
   ]
  },
  {
   "cell_type": "code",
   "execution_count": 98,
   "id": "c1e5a79f",
   "metadata": {},
   "outputs": [
    {
     "name": "stdout",
     "output_type": "stream",
     "text": [
      "[False  True  True False  True]\n"
     ]
    }
   ],
   "source": [
    "# Converting in array\n",
    "b = np.array(bools)\n",
    "print(b)"
   ]
  },
  {
   "cell_type": "code",
   "execution_count": 99,
   "id": "7f60d793",
   "metadata": {},
   "outputs": [
    {
     "name": "stdout",
     "output_type": "stream",
     "text": [
      "3\n"
     ]
    }
   ],
   "source": [
    "# Sum\n",
    "print(np.sum(3))"
   ]
  },
  {
   "cell_type": "code",
   "execution_count": 103,
   "id": "8b043167",
   "metadata": {},
   "outputs": [
    {
     "name": "stdout",
     "output_type": "stream",
     "text": [
      "True\n"
     ]
    }
   ],
   "source": [
    "# Any Method\n",
    "print(np.any(b))"
   ]
  },
  {
   "cell_type": "code",
   "execution_count": 104,
   "id": "7f9ba7d7",
   "metadata": {},
   "outputs": [
    {
     "name": "stdout",
     "output_type": "stream",
     "text": [
      "False\n"
     ]
    }
   ],
   "source": [
    "# All Method\n",
    "print(np.all(b))"
   ]
  },
  {
   "cell_type": "markdown",
   "id": "f46e0c7c",
   "metadata": {},
   "source": [
    "## Extra"
   ]
  },
  {
   "cell_type": "code",
   "execution_count": 106,
   "id": "c8c219b7",
   "metadata": {},
   "outputs": [],
   "source": [
    "# Question\n",
    "\n",
    "# Global\n",
    "\n",
    "x_value = -1\n",
    "y_value = 1\n",
    "\n",
    "x=0\n",
    "y=0\n",
    "\n",
    "\n",
    "def l():\n",
    "    global x_value\n",
    "    if x_value > 0:\n",
    "        # Chnaging Direction\n",
    "        x_value -= 0.5\n",
    "        return x_value\n",
    "    # Chnaging Direction\n",
    "    x_value += 0.5\n",
    "    return x_value\n",
    "\n",
    "\n",
    "def r():\n",
    "    global y_value\n",
    "    if y_value == 1:\n",
    "        # Chnaging Direction\n",
    "        y_value = -1\n",
    "        return y_value\n",
    "    # Chnaging Direction\n",
    "    y_value = 1\n",
    "    return y_value\n",
    "        \n",
    "    \n",
    "def g():\n",
    "    if x_value == 1:\n",
    "        global x\n",
    "        x+=x_value\n",
    "    else:\n",
    "        global y\n",
    "        y+=y_value\n",
    "    print(x,y)\n",
    "        "
   ]
  },
  {
   "cell_type": "code",
   "execution_count": 110,
   "id": "3cb9b4c7",
   "metadata": {},
   "outputs": [
    {
     "name": "stdout",
     "output_type": "stream",
     "text": [
      "0 1\n",
      "0 2\n",
      "0 3\n"
     ]
    }
   ],
   "source": [
    "# Default values\n",
    "x=0;y=0;x_value = -1;y_value = 1\n",
    "\n",
    "# Operation\n",
    "g()\n",
    "g()\n",
    "l()\n",
    "l()\n",
    "l()\n",
    "g()"
   ]
  }
 ],
 "metadata": {
  "kernelspec": {
   "display_name": "Python 3 (ipykernel)",
   "language": "python",
   "name": "python3"
  },
  "language_info": {
   "codemirror_mode": {
    "name": "ipython",
    "version": 3
   },
   "file_extension": ".py",
   "mimetype": "text/x-python",
   "name": "python",
   "nbconvert_exporter": "python",
   "pygments_lexer": "ipython3",
   "version": "3.9.7"
  }
 },
 "nbformat": 4,
 "nbformat_minor": 5
}
